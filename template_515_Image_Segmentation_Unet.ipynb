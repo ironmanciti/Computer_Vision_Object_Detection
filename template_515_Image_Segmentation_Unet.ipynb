{
 "cells": [
  {
   "cell_type": "markdown",
   "id": "109ccd2a",
   "metadata": {
    "id": "109ccd2a"
   },
   "source": [
    "# 환경 설정\n",
    "- GPU 사용 설정  \n",
    "- 필요 라이브러리 설치\n",
    "\n",
    "    1. `segmentation-models-pytorch` - **이미지 분할(Segmentation) 모델**을 제공하는 라이브러리\n",
    "        - **주요 기능**  : ResNet, VGG, EfficientNet, Unet, FPN, PSPNet 등 사전 학습된 모델을 지원\n",
    "        - **사용 예**: 의료 영상 분할, 자율 주행차의 도로 영역 탐지, 위성 이미지의 토지 분류 등\n",
    "\n",
    "    2. `albumentations` -  **데이터 증강(Data Augmentation)**을 쉽게 수행할 수 있도록 설계된 라이브러리\n",
    "        - **주요 기능**  :  **이미지 회전, 자르기, 확대, 밝기 조정, 노이즈 추가 등** 다양한 변환을 수행\n",
    "        - **사용 예**: 이미지 분류, 객체 탐지, 이미지 분할 등의 데이터 증강을 통해 모델의 일반화 성능을 높이기 위해 사용\n",
    "\n",
    "    3. `opencv-contrib-python` - **이미지 처리** 라이브러리\n",
    "        - **주요 기능**  : 다양한 이미지/동영상 처리 함수 및 **엣지 검출, 필터링, 형태 변환, 객체 추적** 등 고급 이미지 처리 기능 제공  \n",
    "        - **사용 예**: 객체 검출, 이미지 필터링, 동영상 분석, AR(Augmented Reality), 머신러닝 기반의 컴퓨터 비전 작업 등"
   ]
  },
  {
   "cell_type": "code",
   "execution_count": null,
   "id": "9de1adaf",
   "metadata": {},
   "outputs": [],
   "source": [
    "# segmentation-models-pytorch(SMP) 라이브러리 설치\n",
    "# PyTorch 기반으로 다양한 세그멘테이션 모델(U-Net, DeepLabV3 등)을 쉽게 사용할 수 있도록 도와줌\n",
    "# albumentations 라이브러리 최신 버전 설치\n",
    "# 이미지 증강(Augmentation) 및 전처리를 위한 강력한 라이브러리\n",
    "# OpenCV 최신 버전 설치 (contrib 포함)\n",
    "# OpenCV는 이미지 처리 및 영상 분석을 위한 라이브러리\n",
    "# `opencv-contrib-python`은 추가적인 확장 기능(SIFT, SURF 등)이 포함된 버전"
   ]
  },
  {
   "cell_type": "code",
   "execution_count": null,
   "id": "85fb7182",
   "metadata": {},
   "outputs": [],
   "source": []
  },
  {
   "cell_type": "code",
   "execution_count": null,
   "id": "030a7edf",
   "metadata": {},
   "outputs": [],
   "source": []
  },
  {
   "cell_type": "markdown",
   "id": "69c190c1",
   "metadata": {
    "id": "69c190c1"
   },
   "source": [
    "### 데이터셋 로드 및 시각화"
   ]
  },
  {
   "cell_type": "code",
   "execution_count": null,
   "id": "bd8de9c4",
   "metadata": {},
   "outputs": [],
   "source": [
    "# 학습 데이터셋 정보 (CSV 파일 경로)\n",
    "# 데이터가 저장된 기본 디렉터리\n",
    "# 학습 설정값\n",
    "# 모델 백본(Backbone) 설정\n",
    "#ENCODER = \"timm-efficientnet-b0\"  # EfficientNet 사용 시\n",
    "# 사전 학습된 가중치 설정\n",
    "# 학습 배치 크기 (Batch Size)\n",
    "# 학습에 사용할 디바이스 설정"
   ]
  },
  {
   "cell_type": "code",
   "execution_count": null,
   "id": "1c29ab66",
   "metadata": {},
   "outputs": [],
   "source": [
    "#  이미지 경로와 마스크(정답) 경로를 불러옴."
   ]
  },
  {
   "cell_type": "code",
   "execution_count": null,
   "id": "46af9504",
   "metadata": {},
   "outputs": [],
   "source": [
    "# 첫 번째 이미지와 마스크를 불러와 시각화.\n",
    "# 이미지 및 마스크 경로 설정\n",
    "# 이미지 읽기 및 RGB로 변환\n",
    "# 마스크 읽기"
   ]
  },
  {
   "cell_type": "code",
   "execution_count": null,
   "id": "37e63b4b",
   "metadata": {},
   "outputs": [],
   "source": [
    "# 원본 이미지 & 객체 마스크(Ground Truth) 비교"
   ]
  },
  {
   "cell_type": "code",
   "execution_count": null,
   "id": "53806238",
   "metadata": {},
   "outputs": [],
   "source": [
    "# 학습용 데이터와 검증용 데이터로 분할"
   ]
  },
  {
   "cell_type": "markdown",
   "id": "04bb26ec",
   "metadata": {
    "id": "04bb26ec"
   },
   "source": [
    "### Data Augmentation (데이터 증강)\n",
    "\n",
    "albumentation documentation : https://albumentations.ai/docs/\n",
    "\n",
    "**albumentations**는 컴퓨터 비전(CV)에서 이미지 데이터 증강(Augmentation)을 수행하는 강력한 라이브러리입니다.\n",
    "특히 **딥러닝 기반 객체 탐지(Object Detection), 세그멘테이션(Segmentation), 이미지 분류(Classification)**에서 널리 사용됩니다.\n",
    "\n",
    "✅ 주요 특징  \n",
    "✔ 빠른 속도 → OpenCV를 기반으로 구현되어, PyTorch와 TensorFlow 대비 매우 빠름  \n",
    "✔ 강력한 변환 기능 → 기본적인 이미지 변환부터 고급 변환(Blur, Noise, Elastic Transform 등)까지 지원  \n",
    "✔ 다양한 응용 가능 → 이미지 분류(Classification), 객체 탐지 (Detection), 세그멘테이션(Segmentation) 지원  "
   ]
  },
  {
   "cell_type": "code",
   "execution_count": null,
   "id": "eab63a39",
   "metadata": {},
   "outputs": [],
   "source": [
    "# 학습 데이터 증강 설정\n",
    "# 검증 데이터 증강 설정"
   ]
  },
  {
   "cell_type": "markdown",
   "id": "2249154c",
   "metadata": {
    "id": "2249154c"
   },
   "source": [
    "### 사용자 정의 Dataset 생성"
   ]
  },
  {
   "cell_type": "code",
   "execution_count": null,
   "id": "a6a9d1bb",
   "metadata": {},
   "outputs": [],
   "source": [
    "class SegmentationDataset(Dataset):\n",
    "    def __init__(self, df, augmentations):\n",
    "    def __len__(self):\n",
    "    def __getitem__(self, idx):\n",
    "        # 주어진 인덱스에 해당하는 데이터 가져오기\n",
    "        # 이미지 읽기 및 RGB로 변환\n",
    "        # 이미지 크기 가져오기\n",
    "        # 마스크 읽기, 그레이스케일로 로드 후 리사이즈\n",
    "        # 증강 적용\n",
    "        # 이미지와 마스크의 차원 변환: (h, w, c) -> (c, h, w)\n",
    "        # 이미지 및 마스크 정규화"
   ]
  },
  {
   "cell_type": "code",
   "execution_count": null,
   "id": "460a7926",
   "metadata": {},
   "outputs": [],
   "source": [
    "# 학습용 및 검증용 데이터셋 생성\n",
    "# 학습 데이터셋과 검증 데이터셋의 샘플 수 출력"
   ]
  },
  {
   "cell_type": "code",
   "execution_count": null,
   "id": "7fb8fe6e",
   "metadata": {},
   "outputs": [],
   "source": [
    "# 샘플 인덱스 설정\n",
    "# 학습 데이터셋에서 인덱스에 해당하는 이미지와 마스크 가져오기\n",
    "# 첫 번째 서브플롯에 이미지 출력\n",
    "# 두 번째 서브플롯에 마스크(GROUND TRUTH) 출력"
   ]
  },
  {
   "cell_type": "markdown",
   "id": "3ead7837",
   "metadata": {
    "id": "3ead7837"
   },
   "source": [
    "### 데이터 로더 작성"
   ]
  },
  {
   "cell_type": "code",
   "execution_count": null,
   "id": "3156f72e",
   "metadata": {},
   "outputs": [],
   "source": [
    "# 학습용 데이터 로더 생성\n",
    "# 검증용 데이터 로더 생성"
   ]
  },
  {
   "cell_type": "code",
   "execution_count": null,
   "id": "1e6e7fd5",
   "metadata": {},
   "outputs": [],
   "source": []
  },
  {
   "cell_type": "markdown",
   "id": "2c49dbb3",
   "metadata": {
    "id": "2c49dbb3"
   },
   "source": [
    "### Segmentation Model 작성\n",
    "\n",
    "segmentation_models_pytorch documentation : https://smp.readthedocs.io/en/latest/\n",
    "\n",
    "**segmentation-models-pytorch (SMP)**는 PyTorch 기반의 이미지 분할(Segmentation) 모델 라이브러리입니다.\n",
    "\n",
    "- 다양한 세그멘테이션(Segmentation) 모델을 쉽게 사용하고 학습할 수 있도록 제공하는 라이브러리입니다.  \n",
    "- 사전 학습된 가중치(Pretrained Weights)를 활용하여 빠르게 Fine-Tuning할 수 있습니다.  \n",
    "- 객체 탐지(Object Detection)와는 다르게, 픽셀 단위 분할을 수행하는 모델을 지원합니다.  "
   ]
  },
  {
   "cell_type": "code",
   "execution_count": null,
   "id": "ebb291d3",
   "metadata": {},
   "outputs": [],
   "source": [
    "# 분할 작업에 자주 사용되는 Dice 손실 함수 임포트"
   ]
  },
  {
   "cell_type": "markdown",
   "id": "0ed3d022",
   "metadata": {
    "id": "0ed3d022"
   },
   "source": [
    "**U-Net 모델 정의**\n",
    "- smp.Unet() → ResNet18을 백본(Backbone)으로 사용하는 U-Net 모델 생성"
   ]
  },
  {
   "cell_type": "code",
   "execution_count": null,
   "id": "e3e45b8a",
   "metadata": {},
   "outputs": [],
   "source": [
    "# U-Net 모델 정의\n",
    "class SegmentationModel(nn.Module):\n",
    "    def __init__(self):\n",
    "        # Unet 아키텍처 초기화\n",
    "    def forward(self, images, masks=None):\n",
    "        # 입력 이미지를 모델에 통과시켜 예측값(logits) 생성\n",
    "        # 마스크가 주어졌다면 (훈련 모드)\n",
    "            # Dice 손실 계산 : 분할 정확도를 높이기 위해 사용\n",
    "            # Binary Cross Entropy 손실 계산 : 이진 분류 문제 해결을 위해 사용\n",
    "            # 두 손실을 더해서 반환 (훈련 시 사용)\n",
    "        # 마스크가 없을 때는 예측값만 반환 (추론 시 사용)"
   ]
  },
  {
   "cell_type": "code",
   "execution_count": null,
   "id": "f4043422",
   "metadata": {},
   "outputs": [],
   "source": []
  },
  {
   "cell_type": "markdown",
   "id": "4194e4e7",
   "metadata": {
    "id": "4194e4e7"
   },
   "source": [
    "### Train and Validation 함수 작성"
   ]
  },
  {
   "cell_type": "code",
   "execution_count": null,
   "id": "3f364b85",
   "metadata": {},
   "outputs": [],
   "source": [
    "def train_fn(data_loader, model, optimizer):\n",
    "    # 데이터 로더에서 이미지와 마스크를 가져와 학습\n",
    "        # 이미지를 지정한 장치(DEVICE)로 이동\n",
    "        # 옵티마이저의 그래디언트 초기화\n",
    "        # 모델에 이미지를 입력하여 예측값과 손실 계산\n",
    "        # 손실의 그래디언트를 계산하고 역전파\n",
    "        # 옵티마이저를 통해 가중치 업데이트\n",
    "        # 현재 배치의 손실을 총 손실에 더하기\n",
    "    # 평균 손실 반환"
   ]
  },
  {
   "cell_type": "code",
   "execution_count": null,
   "id": "7a3a325e",
   "metadata": {},
   "outputs": [],
   "source": [
    "def eval_fn(data_loader, model):\n",
    "    # 그래디언트 계산 비활성화\n",
    "        # 데이터 로더에서 이미지와 마스크를 가져와 평가\n",
    "            # 이미지를 지정한 장치(DEVICE)로 이동\n",
    "            # 모델에 이미지를 입력하여 예측값과 손실 계산\n",
    "            # 현재 배치의 손실을 총 손실에 더하기\n",
    "    # 평균 손실 반환"
   ]
  },
  {
   "cell_type": "markdown",
   "id": "RXrrP9Zcc6Nu",
   "metadata": {
    "id": "RXrrP9Zcc6Nu"
   },
   "source": [
    "### Model Train"
   ]
  },
  {
   "cell_type": "code",
   "execution_count": null,
   "id": "aab53e81",
   "metadata": {},
   "outputs": [],
   "source": [
    "# Adam 옵티마이저 초기화\n",
    "# 최적 검증 손실 초기값을 무한대로 설정\n",
    "# 학습을 EPOCHS만큼 반복\n",
    "    # 학습 데이터셋을 사용하여 모델 학습\n",
    "    # 검증 데이터셋을 사용하여 모델 평가\n",
    "    # 검증 손실이 이전 최적 손실보다 낮으면 모델 저장\n",
    "    # 현재 에포크의 학습 손실과 검증 손실 출력"
   ]
  },
  {
   "cell_type": "markdown",
   "id": "6ddf0280",
   "metadata": {
    "id": "6ddf0280"
   },
   "source": [
    "### Inference"
   ]
  },
  {
   "cell_type": "code",
   "execution_count": null,
   "id": "2ebea3bc",
   "metadata": {},
   "outputs": [],
   "source": [
    "# 저장된 최적 모델의 가중치 로드\n",
    "# 검증 데이터셋에서 이미지와 마스크 가져오기\n",
    "# 모델을 사용하여 예측 마스크 생성 (차원을 맞추기 위해 unsqueeze 사용)\n",
    "# 예측값에 시그모이드 함수를 적용하여 확률 값으로 변환\n",
    "# 0.5를 기준으로 이진화하여 최종 예측 마스크 생성"
   ]
  },
  {
   "cell_type": "code",
   "execution_count": null,
   "id": "4a0746e5",
   "metadata": {},
   "outputs": [],
   "source": [
    "# 첫 번째 서브플롯에 원본 이미지 출력\n",
    "# 두 번째 서브플롯에 실제 마스크(GROUND TRUTH) 출력\n",
    "# 세 번째 서브플롯에 예측 마스크(PREDICTED MASK) 출력"
   ]
  },
  {
   "cell_type": "code",
   "execution_count": null,
   "id": "31700579",
   "metadata": {},
   "outputs": [],
   "source": []
  }
 ],
 "metadata": {
  "accelerator": "GPU",
  "colab": {
   "gpuType": "T4",
   "provenance": []
  },
  "kernelspec": {
   "display_name": "Python 3",
   "name": "python3"
  },
  "language_info": {
   "codemirror_mode": {
    "name": "ipython",
    "version": 3
   },
   "file_extension": ".py",
   "mimetype": "text/x-python",
   "name": "python",
   "nbconvert_exporter": "python",
   "pygments_lexer": "ipython3",
   "version": "3.9.16"
  }
 },
 "nbformat": 4,
 "nbformat_minor": 5
}
