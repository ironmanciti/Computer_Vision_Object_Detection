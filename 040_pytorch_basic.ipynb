{
  "cells": [
    {
      "cell_type": "markdown",
      "metadata": {
        "id": "bptrBsIN0aIK"
      },
      "source": [
        "# Pytorch Basic"
      ]
    },
    {
      "cell_type": "code",
      "execution_count": 1,
      "metadata": {
        "colab": {
          "base_uri": "https://localhost:8080/",
          "height": 35
        },
        "id": "FWfvDn9z0aIO",
        "outputId": "ce918008-9866-4c94-fc47-02a49f08a488"
      },
      "outputs": [
        {
          "output_type": "execute_result",
          "data": {
            "text/plain": [
              "'cuda:0'"
            ],
            "application/vnd.google.colaboratory.intrinsic+json": {
              "type": "string"
            }
          },
          "metadata": {},
          "execution_count": 1
        }
      ],
      "source": [
        "import torch\n",
        "import numpy as np\n",
        "import matplotlib.pyplot as plt\n",
        "\n",
        "device = \"cuda:0\" if torch.cuda.is_available() else \"cpu\"\n",
        "device"
      ]
    },
    {
      "cell_type": "markdown",
      "metadata": {
        "id": "hDMoQIgGV10z"
      },
      "source": [
        "### torch.tensor 함수\n",
        "\n",
        "`tensor(data, dtype=None, device=None, requires_grad=False) -> Tensor`\n",
        "\n",
        "     data (array_like): list, tuple, numpy ndarray, scalar, and other types.\n",
        "     dtype :  `None`인 경우 `data`에서 데이터 유형을 유추합니다.  \n",
        "     device : `cpu`, `cuda`  \n",
        "     require_grad(bool, optional): autograd가 작업을 기록해야 하는 경우"
      ]
    },
    {
      "cell_type": "markdown",
      "metadata": {
        "id": "3_x6xXPPV100"
      },
      "source": [
        "Float torch tensor 생성"
      ]
    },
    {
      "cell_type": "code",
      "execution_count": 2,
      "metadata": {
        "colab": {
          "base_uri": "https://localhost:8080/"
        },
        "id": "dKTlCKQk0aIS",
        "outputId": "30566416-f613-45b2-a984-e7f3975ac61e"
      },
      "outputs": [
        {
          "output_type": "stream",
          "name": "stdout",
          "text": [
            "float32 \t torch.float32\n"
          ]
        }
      ],
      "source": [
        "# numpy 생성\n",
        "a = np.ones((2, 3), dtype=\"float32\")\n",
        "# tensor 생성\n",
        "b = torch.tensor(a)\n",
        "# dtype\n",
        "print(a.dtype, '\\t', b.dtype)"
      ]
    },
    {
      "cell_type": "markdown",
      "metadata": {
        "id": "77WegQUXV102"
      },
      "source": [
        "Integer tensor 생성"
      ]
    },
    {
      "cell_type": "code",
      "execution_count": 3,
      "metadata": {
        "colab": {
          "base_uri": "https://localhost:8080/"
        },
        "id": "YECq91Ru0aIS",
        "outputId": "b14d08bf-b8ef-4cd2-f566-2fb03985fb8a"
      },
      "outputs": [
        {
          "output_type": "execute_result",
          "data": {
            "text/plain": [
              "tensor([[1, 2, 3],\n",
              "        [4, 5, 6]], dtype=torch.int32)"
            ]
          },
          "metadata": {},
          "execution_count": 3
        }
      ],
      "source": [
        "x = torch.tensor([[1, 2, 3], [4, 5, 6]], dtype=torch.int32)\n",
        "x"
      ]
    },
    {
      "cell_type": "markdown",
      "metadata": {
        "id": "6yb70D7F0aIa"
      },
      "source": [
        "### Tensor 생성\n",
        "\n",
        "- 무작위로 초기화된 행렬 생성 (uniform distribution)"
      ]
    },
    {
      "cell_type": "code",
      "execution_count": 4,
      "metadata": {
        "colab": {
          "base_uri": "https://localhost:8080/"
        },
        "id": "M1ohi1oc0aIa",
        "outputId": "cac9eebf-d07e-41a3-a51f-e7ddcd5cf98c"
      },
      "outputs": [
        {
          "output_type": "stream",
          "name": "stdout",
          "text": [
            "tensor([[0.2858, 0.1407, 0.3070],\n",
            "        [0.7996, 0.0583, 0.8411],\n",
            "        [0.8182, 0.7560, 0.7350],\n",
            "        [0.0206, 0.2115, 0.6574],\n",
            "        [0.2271, 0.3695, 0.6418]])\n"
          ]
        }
      ],
      "source": [
        "x = torch.rand(5, 3)\n",
        "print(x)"
      ]
    },
    {
      "cell_type": "markdown",
      "metadata": {
        "id": "_F_MBE6Y0aId"
      },
      "source": [
        "## Tensor 의 shape & dimension (rank)"
      ]
    },
    {
      "cell_type": "code",
      "execution_count": 5,
      "metadata": {
        "colab": {
          "base_uri": "https://localhost:8080/"
        },
        "id": "ptYfxewn0aIe",
        "outputId": "e10a92c6-648c-4d68-e631-c1cea09d6e01"
      },
      "outputs": [
        {
          "output_type": "execute_result",
          "data": {
            "text/plain": [
              "torch.Size([5])"
            ]
          },
          "metadata": {},
          "execution_count": 5
        }
      ],
      "source": [
        "a = torch.Tensor([0, 1, 2, 3, 4])\n",
        "a.size()"
      ]
    },
    {
      "cell_type": "code",
      "execution_count": 6,
      "metadata": {
        "colab": {
          "base_uri": "https://localhost:8080/"
        },
        "id": "R5VHrcai0aIe",
        "outputId": "05e05ac6-8a0b-48dd-d904-c21cd3941367"
      },
      "outputs": [
        {
          "output_type": "execute_result",
          "data": {
            "text/plain": [
              "torch.Size([5])"
            ]
          },
          "metadata": {},
          "execution_count": 6
        }
      ],
      "source": [
        "# size() 와 shape 은 alias\n",
        "a.shape"
      ]
    },
    {
      "cell_type": "code",
      "execution_count": 7,
      "metadata": {
        "colab": {
          "base_uri": "https://localhost:8080/"
        },
        "id": "fXSRrETw0aIe",
        "outputId": "0d4a7e01-f72b-470f-e71d-50f58f3fed36"
      },
      "outputs": [
        {
          "output_type": "execute_result",
          "data": {
            "text/plain": [
              "1"
            ]
          },
          "metadata": {},
          "execution_count": 7
        }
      ],
      "source": [
        "a.ndimension()"
      ]
    },
    {
      "cell_type": "markdown",
      "metadata": {
        "id": "SOr0fUj50aIg"
      },
      "source": [
        "## numpy 와 tensor 간의 호환성\n",
        "\n",
        "- memory 를 공유하므로 하나를 수정하면 나머지에 모두 반영  "
      ]
    },
    {
      "cell_type": "code",
      "execution_count": 8,
      "metadata": {
        "colab": {
          "base_uri": "https://localhost:8080/"
        },
        "id": "G6Gk3T1L0aIg",
        "outputId": "53b1d4b9-2cbd-4762-c198-9c1a8e3b199e"
      },
      "outputs": [
        {
          "output_type": "execute_result",
          "data": {
            "text/plain": [
              "tensor([0., 1., 2., 3., 4., 5.], dtype=torch.float64)"
            ]
          },
          "metadata": {},
          "execution_count": 8
        }
      ],
      "source": [
        "numpy_array = np.array([0.0, 1.0, 2.0, 3.0, 4.0, 5.0])       # numpy array\n",
        "torch_tensor = torch.from_numpy(numpy_array)               # torch tensor\n",
        "torch_tensor"
      ]
    },
    {
      "cell_type": "code",
      "execution_count": 9,
      "metadata": {
        "colab": {
          "base_uri": "https://localhost:8080/"
        },
        "id": "P1x1lBo70aIh",
        "outputId": "7c167e0d-7ba4-427f-ed27-e3f22d53402e"
      },
      "outputs": [
        {
          "output_type": "execute_result",
          "data": {
            "text/plain": [
              "array([0., 1., 2., 3., 4., 5.])"
            ]
          },
          "metadata": {},
          "execution_count": 9
        }
      ],
      "source": [
        "back_to_numpy = torch_tensor.numpy()           # numpy array\n",
        "back_to_numpy"
      ]
    },
    {
      "cell_type": "code",
      "execution_count": 10,
      "metadata": {
        "colab": {
          "base_uri": "https://localhost:8080/"
        },
        "id": "PFxj24eI0aIh",
        "outputId": "5f6d02ab-8b47-4b1c-bf0f-1b05f68b1af7"
      },
      "outputs": [
        {
          "output_type": "execute_result",
          "data": {
            "text/plain": [
              "(array([0., 1., 2., 3., 4., 5.]),\n",
              " tensor([0., 1., 2., 3., 4., 5.], dtype=torch.float64),\n",
              " array([0., 1., 2., 3., 4., 5.]))"
            ]
          },
          "metadata": {},
          "execution_count": 10
        }
      ],
      "source": [
        "numpy_array, torch_tensor, back_to_numpy"
      ]
    },
    {
      "cell_type": "code",
      "execution_count": 11,
      "metadata": {
        "colab": {
          "base_uri": "https://localhost:8080/"
        },
        "id": "Bm76gZrW0aIh",
        "outputId": "09f8f4b1-0b5e-4a58-bce8-effd08f6a355"
      },
      "outputs": [
        {
          "output_type": "execute_result",
          "data": {
            "text/plain": [
              "(array([100.,   1.,   2.,   3.,   4.,   5.]),\n",
              " tensor([100.,   1.,   2.,   3.,   4.,   5.], dtype=torch.float64),\n",
              " array([100.,   1.,   2.,   3.,   4.,   5.]))"
            ]
          },
          "metadata": {},
          "execution_count": 11
        }
      ],
      "source": [
        "back_to_numpy[0] = 100\n",
        "\n",
        "numpy_array, torch_tensor, back_to_numpy"
      ]
    },
    {
      "cell_type": "markdown",
      "metadata": {
        "id": "M7tI-oW-0aIi"
      },
      "source": [
        "## Scalar value\n",
        "\n",
        "- 만약 tensor에 하나의 값만 존재한다면, ``.item()`` method를 사용하여 숫자 값을 얻을 수 있습니다.  "
      ]
    },
    {
      "cell_type": "code",
      "execution_count": 12,
      "metadata": {
        "colab": {
          "base_uri": "https://localhost:8080/"
        },
        "id": "nkyd8fiK0aIi",
        "outputId": "f1a49386-1f2f-4599-e52c-a9cb82dba087"
      },
      "outputs": [
        {
          "output_type": "execute_result",
          "data": {
            "text/plain": [
              "-0.19019469618797302"
            ]
          },
          "metadata": {},
          "execution_count": 12
        }
      ],
      "source": [
        "x = torch.randn(1)\n",
        "x.item()"
      ]
    },
    {
      "cell_type": "code",
      "execution_count": 13,
      "metadata": {
        "colab": {
          "base_uri": "https://localhost:8080/"
        },
        "id": "UY1-2LF00aIi",
        "outputId": "80488460-01c0-468f-8591-763a169c98c1"
      },
      "outputs": [
        {
          "output_type": "stream",
          "name": "stdout",
          "text": [
            "tensor(5.)\n",
            "5.0\n"
          ]
        }
      ],
      "source": [
        "a = torch.tensor([5., 3., 4., 1.])\n",
        "\n",
        "print(a[0])\n",
        "print(a[0].item())"
      ]
    },
    {
      "cell_type": "markdown",
      "metadata": {
        "id": "79_l6-6Jr3A4"
      },
      "source": [
        "- tensor 가 array 형태인 경우 `numpy()` method 를 통해 ndarray 반환"
      ]
    },
    {
      "cell_type": "code",
      "execution_count": 14,
      "metadata": {
        "colab": {
          "base_uri": "https://localhost:8080/"
        },
        "id": "pbNz9o3_0aIj",
        "outputId": "495b1281-af8b-49a0-ea2b-2ee2a0e003de"
      },
      "outputs": [
        {
          "output_type": "stream",
          "name": "stdout",
          "text": [
            "tensor([0.4472, 0.6132])\n",
            "\n",
            "[0.44719145 0.61316615]\n"
          ]
        }
      ],
      "source": [
        "x = torch.randn(2)\n",
        "print(x)\n",
        "print()\n",
        "print(x.numpy())"
      ]
    },
    {
      "cell_type": "markdown",
      "metadata": {
        "id": "LnsztCIG0aIm"
      },
      "source": [
        "## Basic Operations - numpy 와 동일"
      ]
    },
    {
      "cell_type": "code",
      "execution_count": 15,
      "metadata": {
        "colab": {
          "base_uri": "https://localhost:8080/"
        },
        "id": "kfjfj9Ak0aIm",
        "outputId": "da9c5dd3-ac0f-4027-b963-1eab3c382785"
      },
      "outputs": [
        {
          "output_type": "execute_result",
          "data": {
            "text/plain": [
              "tensor([1., 1.])"
            ]
          },
          "metadata": {},
          "execution_count": 15
        }
      ],
      "source": [
        "# element-wise 덧셈, 뺄셈\n",
        "u = torch.tensor([1.0, 0.0])\n",
        "v = torch.tensor([0.0, 1.0])\n",
        "z = u + v\n",
        "z"
      ]
    },
    {
      "cell_type": "code",
      "execution_count": 16,
      "metadata": {
        "colab": {
          "base_uri": "https://localhost:8080/"
        },
        "id": "zhgNRITy0aIn",
        "outputId": "5b127f9d-e273-4912-a3d0-2b07a34a9159"
      },
      "outputs": [
        {
          "output_type": "execute_result",
          "data": {
            "text/plain": [
              "tensor([ 1., -1.])"
            ]
          },
          "metadata": {},
          "execution_count": 16
        }
      ],
      "source": [
        "z = u - v\n",
        "z"
      ]
    },
    {
      "cell_type": "code",
      "execution_count": 17,
      "metadata": {
        "colab": {
          "base_uri": "https://localhost:8080/"
        },
        "id": "yuh56pVz0aIn",
        "outputId": "191cb0d7-8772-4c8c-ea33-8a526d4cbb73"
      },
      "outputs": [
        {
          "output_type": "execute_result",
          "data": {
            "text/plain": [
              "tensor([3, 4])"
            ]
          },
          "metadata": {},
          "execution_count": 17
        }
      ],
      "source": [
        "# element-wise 곱셈\n",
        "u = torch.tensor([1, 2])\n",
        "v = torch.tensor([3, 2])\n",
        "z = u * v\n",
        "z"
      ]
    },
    {
      "cell_type": "code",
      "execution_count": 18,
      "metadata": {
        "colab": {
          "base_uri": "https://localhost:8080/"
        },
        "id": "vjapsSQr0aIn",
        "outputId": "eb97e55c-b9f8-4445-dbf9-0cefa1745187"
      },
      "outputs": [
        {
          "output_type": "execute_result",
          "data": {
            "text/plain": [
              "tensor([2, 4])"
            ]
          },
          "metadata": {},
          "execution_count": 18
        }
      ],
      "source": [
        "# 스칼라 곱\n",
        "y = torch.tensor([1, 2])\n",
        "z = 2 * y\n",
        "z"
      ]
    },
    {
      "cell_type": "code",
      "execution_count": 19,
      "metadata": {
        "colab": {
          "base_uri": "https://localhost:8080/"
        },
        "id": "9lvO5K-D0aIo",
        "outputId": "a1b1e3af-9786-4056-b3cc-62a3e6b160b8"
      },
      "outputs": [
        {
          "output_type": "execute_result",
          "data": {
            "text/plain": [
              "tensor(5)"
            ]
          },
          "metadata": {},
          "execution_count": 19
        }
      ],
      "source": [
        "# dot product\n",
        "u = torch.tensor([1, 2])\n",
        "v = torch.tensor([3, 1])\n",
        "result = torch.dot(u, v)\n",
        "result"
      ]
    },
    {
      "cell_type": "markdown",
      "metadata": {
        "id": "O_7QZDgU0aIz"
      },
      "source": [
        "## TORCH.AUTOGRAD를 이용한 자동 미분\n",
        "\n",
        "- autograd 패키지는 Tensor의 모든 연산에 대해 자동 미분을 제공   \n",
        "\n",
        "- 신경망을 훈련할 때 가장 자주 사용되는 알고리즘은 역전파이다. 이 알고리즘에서 매개 변수 (모델 가중치)는 주어진 매개 변수에 대한 손실 함수의 기울기에 따라 조정된다.  \n",
        "\n",
        "- 이러한 그래디언트를 계산하기 위해 PyTorch에는 torch.autograd라는 내장 미분 엔진이 있다.\n",
        "\n",
        "- ``.requires_grad`` 속성을 True 로 설정하면, 그 tensor에서 이뤄진 모든 연산들을 추적(track)하기 시작  \n",
        "\n",
        "- 계산이 완료된 후 ``.backward()`` 를 호출하여 모든 변화도(gradient)를 자동으로 계산  \n",
        "\n",
        "- 이 Tensor의 변화도는 ``.grad`` 속성에 누적  \n",
        "\n",
        "- Tensor가 기록을 추적하는 것을 중단하게 하려면, ``.detach()`` 를 호출하여 연산 기록으로부터 분리(detach)하여 이후 연산들이 추적되는 것을 방지한다.\n",
        "\n",
        "- 도함수를 계산하기 위해서는 Tensor 의 ``.backward()`` 를 호출"
      ]
    },
    {
      "cell_type": "code",
      "execution_count": 20,
      "metadata": {
        "colab": {
          "base_uri": "https://localhost:8080/"
        },
        "id": "K_j214gH0aIz",
        "outputId": "c443304b-e3a3-487a-96ae-b927916adcd8"
      },
      "outputs": [
        {
          "output_type": "execute_result",
          "data": {
            "text/plain": [
              "tensor(2., requires_grad=True)"
            ]
          },
          "metadata": {},
          "execution_count": 20
        }
      ],
      "source": [
        "x = torch.tensor(2.0, requires_grad=True)\n",
        "x"
      ]
    },
    {
      "cell_type": "code",
      "execution_count": 21,
      "metadata": {
        "colab": {
          "base_uri": "https://localhost:8080/"
        },
        "id": "KHQ-Cio40aIz",
        "outputId": "0554072f-827a-4df7-ecc6-529fd210ed88"
      },
      "outputs": [
        {
          "output_type": "execute_result",
          "data": {
            "text/plain": [
              "tensor(4., grad_fn=<PowBackward0>)"
            ]
          },
          "metadata": {},
          "execution_count": 21
        }
      ],
      "source": [
        "y = x ** 2\n",
        "y"
      ]
    },
    {
      "cell_type": "markdown",
      "metadata": {
        "id": "iYd4NfSL0aI0"
      },
      "source": [
        "y 를 x 에 대하여 미분  \n",
        "$$y(x)=x^2$$\n",
        "\n",
        "$$\\frac{dy(x=2)}{dx}=2x=4 \\rightarrow {y.backward()}$$  "
      ]
    },
    {
      "cell_type": "code",
      "execution_count": 22,
      "metadata": {
        "colab": {
          "base_uri": "https://localhost:8080/"
        },
        "id": "Zwsnd91k0aI0",
        "outputId": "098c7c01-1c76-45c5-fe22-8308d9ac32c1"
      },
      "outputs": [
        {
          "output_type": "execute_result",
          "data": {
            "text/plain": [
              "tensor(4.)"
            ]
          },
          "metadata": {},
          "execution_count": 22
        }
      ],
      "source": [
        "y.backward()\n",
        "\n",
        "x.grad"
      ]
    },
    {
      "cell_type": "markdown",
      "metadata": {
        "id": "5XAK-OhP0aI0"
      },
      "source": [
        "## 편미분\n",
        "$$f(u, v) = uv + u^2$$\n",
        "\n",
        "$$\\frac{\\partial{f(u, v)}}{\\partial {u}}=v+2u$$\n",
        "$$\\frac{\\partial{f(u, v)}}{\\partial {v}}=u$$"
      ]
    },
    {
      "cell_type": "code",
      "execution_count": 23,
      "metadata": {
        "colab": {
          "base_uri": "https://localhost:8080/"
        },
        "id": "U2BhlzdZ0aI1",
        "outputId": "998481f9-ef77-4390-ef5c-4041698d387c"
      },
      "outputs": [
        {
          "output_type": "execute_result",
          "data": {
            "text/plain": [
              "tensor(3., grad_fn=<AddBackward0>)"
            ]
          },
          "metadata": {},
          "execution_count": 23
        }
      ],
      "source": [
        "u = torch.tensor(1.0, requires_grad=True)\n",
        "v = torch.tensor(2.0, requires_grad=True)\n",
        "\n",
        "f = u * v + u ** 2\n",
        "f"
      ]
    },
    {
      "cell_type": "code",
      "execution_count": 24,
      "metadata": {
        "id": "YI_Wh6of0aI1"
      },
      "outputs": [],
      "source": [
        "f.backward()"
      ]
    },
    {
      "cell_type": "code",
      "execution_count": 25,
      "metadata": {
        "colab": {
          "base_uri": "https://localhost:8080/"
        },
        "id": "yg2eiDc-0aI1",
        "outputId": "964ebed3-aafc-455a-de74-503bd4cd7dfb"
      },
      "outputs": [
        {
          "output_type": "stream",
          "name": "stdout",
          "text": [
            "tensor(4.)\n",
            "tensor(1.)\n"
          ]
        }
      ],
      "source": [
        "print(u.grad)\n",
        "print(v.grad)"
      ]
    },
    {
      "cell_type": "markdown",
      "metadata": {
        "id": "IAUr-i_at4ne"
      },
      "source": [
        "## 연습 문제"
      ]
    },
    {
      "cell_type": "markdown",
      "metadata": {
        "id": "J_QH8ccEt4ne"
      },
      "source": [
        "1. Tensor 생성  \n",
        "3x3 크기의 무작위로 초기화된 텐서를 생성하세요.  \n",
        "이 텐서의 데이터 타입을 확인하세요.  \n",
        "\n",
        "힌트: torch.rand()와 .dtype를 활용하세요.  \n",
        "예상 출력: (3, 3) 모양의 텐서와 데이터 타입 출력."
      ]
    },
    {
      "cell_type": "code",
      "execution_count": 27,
      "metadata": {
        "id": "ZvkhU_ljt4ne"
      },
      "outputs": [],
      "source": []
    },
    {
      "cell_type": "markdown",
      "metadata": {
        "id": "BIWBQt9Et4ne"
      },
      "source": [
        "2. Tensor의 Shape와 Dimension  \n",
        "[1.0, 2.0, 3.0, 4.0, 5.0] 값을 가진 1D 텐서를 생성하세요.  \n",
        "이 텐서의 크기(size)와 차원(ndimension)을 확인하세요.\n",
        "\n",
        "힌트: torch.Tensor(), .size(), .ndimension()을 활용하세요.  \n",
        "예상 출력: 텐서의 크기 (5,)와 차원 1."
      ]
    },
    {
      "cell_type": "code",
      "execution_count": 27,
      "metadata": {
        "id": "lFpKzcCwt4ne"
      },
      "outputs": [],
      "source": []
    },
    {
      "cell_type": "markdown",
      "metadata": {
        "id": "clmcK0O-t4ne"
      },
      "source": [
        "3. Numpy와 Tensor 간의 호환성  \n",
        "NumPy 배열 [1.0, 2.0, 3.0]을 생성하세요.  \n",
        "이 배열을 PyTorch 텐서로 변환하고, 다시 NumPy 배열로 변환하세요.  \n",
        "NumPy 배열을 수정한 후, PyTorch 텐서 값이 어떻게 변하는지 확인하세요.\n",
        "\n",
        "힌트: torch.from_numpy()와 .numpy()를 활용하세요.  \n",
        "예상 출력: NumPy 배열과 텐서 값이 동기화되어 변경됨."
      ]
    },
    {
      "cell_type": "code",
      "execution_count": 27,
      "metadata": {
        "id": "cFqbqMmwt4ne"
      },
      "outputs": [],
      "source": []
    },
    {
      "cell_type": "markdown",
      "metadata": {
        "id": "n9KbfNuIt4ne"
      },
      "source": [
        "4. Basic Operations  \n",
        "[1, 2, 3]과 [4, 5, 6]으로 구성된 두 개의 텐서를 생성하세요.  \n",
        "다음 연산을 수행하세요:  \n",
        "두 텐서의 합.  \n",
        "두 텐서의 차.  \n",
        "두 텐서의 원소별 곱.  \n",
        "첫 번째 텐서에 3을 곱한 결과.\n",
        "\n",
        "힌트: +, -, * 연산과 스칼라 곱셈을 활용하세요.  \n",
        "예상 출력: 합, 차, 원소별 곱, 스칼라 곱 결과."
      ]
    },
    {
      "cell_type": "code",
      "execution_count": 27,
      "metadata": {
        "id": "jfnjy3xqt4ne"
      },
      "outputs": [],
      "source": []
    }
  ],
  "metadata": {
    "accelerator": "GPU",
    "colab": {
      "gpuType": "T4",
      "provenance": []
    },
    "kernelspec": {
      "display_name": "Python 3 (ipykernel)",
      "language": "python",
      "name": "python3"
    },
    "language_info": {
      "codemirror_mode": {
        "name": "ipython",
        "version": 3
      },
      "file_extension": ".py",
      "mimetype": "text/x-python",
      "name": "python",
      "nbconvert_exporter": "python",
      "pygments_lexer": "ipython3",
      "version": "3.9.16"
    }
  },
  "nbformat": 4,
  "nbformat_minor": 0
}