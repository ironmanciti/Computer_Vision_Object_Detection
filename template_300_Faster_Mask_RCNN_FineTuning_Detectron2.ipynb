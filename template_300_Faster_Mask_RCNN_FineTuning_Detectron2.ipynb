{
 "cells": [
  {
   "cell_type": "markdown",
   "id": "f2b4f98f",
   "metadata": {
    "id": "Rs3MiqMjSYla"
   },
   "source": [
    "**Connect Colab with Google Drive**"
   ]
  },
  {
   "cell_type": "markdown",
   "id": "b202bdf9",
   "metadata": {
    "id": "IR3zxDOYu_CQ"
   },
   "source": [
    "# **Detectron2: PyTorch 기반 모듈식 객체 감지 라이브러리**\n",
    "Detectron2는 Facebook 에서 만든 딥러닝 기반의 객체 탐지 및 분할 라이브러리입니다.  \n",
    "\n",
    "**1. Detectron2 설치**  \n",
    "- Google Colab 환경에서 Detectron2를 설치하고 설정합니다\n",
    "- 설치에 5 분 정도 소요\n",
    "\n",
    "**2. COCO 데이터셋 및 사전 학습된 모델 로드**\n",
    "\n",
    "**3. 사전 학습된 Faster R-CNN 모델로 객체 탐지**\n",
    "\n",
    "**4. 사전 학습된 Mask R-CNN을 이용한 객체 분할**\n",
    "\n",
    "**5. 사용자 정의 데이터셋(Balloon Dataset) 미세 조정(Fine-tuning)**\n",
    "\n",
    "**6. Detectron2를 사용한 모델 학습 (Fine-Tuning)**\n",
    "\n",
    "**7. 학습된 모델을 사용한 추론 및 평가**"
   ]
  },
  {
   "cell_type": "code",
   "execution_count": null,
   "id": "185d0315",
   "metadata": {},
   "outputs": [],
   "source": []
  },
  {
   "cell_type": "markdown",
   "id": "0a0505ae",
   "metadata": {
    "id": "e4e-U_ffbbco"
   },
   "source": [
    "필요한 라이브러리 임포트"
   ]
  },
  {
   "cell_type": "code",
   "execution_count": null,
   "id": "ddd8bd4f",
   "metadata": {},
   "outputs": [],
   "source": [
    "# Detectron2의 로거(Logger)를 설정하는 코드\n",
    "# 로거(Logger)는 모델 실행 중 발생하는 정보(예: 학습 상태, 경고 메시지, 오류 등)를 기록하고 출력합니다.\n",
    "# import some common detectron2 utilities\n",
    "#https://github.com/facebookresearch/detectron2/blob/main/MODEL_ZOO.md\n",
    "# Detectron2에서 제공하는 사전 학습된 모델(예: Faster R-CNN, Mask R-CNN)\n",
    "# 사전 학습된 모델을 사용해 이미지에서 추론(예측)을 수행하는 API\n",
    "# Detectron2 모델 설정(configuration) 관리\n",
    "# 객체 탐지 및 분할 결과를 시각화(예: 이미지 위에 바운딩 박스, 마스크, 클래스 정보 추가)\n",
    "# 데이터셋의 메타데이터(예: 클래스 이름, 색상 등)를 관리"
   ]
  },
  {
   "cell_type": "code",
   "execution_count": null,
   "id": "b8bee5df",
   "metadata": {},
   "outputs": [],
   "source": [
    "# https://cocodataset.org/#home\n",
    "# COCO 2017 train 데이터셋의 메타데이터를 불러옵니다.\n",
    "# 메타데이터에서 클래스 이름(thing_classes)을 가져옵니다.\n",
    "# 클래스의 개수와 이름을 출력합니다."
   ]
  },
  {
   "cell_type": "markdown",
   "id": "af89a784",
   "metadata": {
    "id": "uPylefZDfodq"
   },
   "source": [
    "- Local PC 에서 aeroplane image 찾아서 upload"
   ]
  },
  {
   "cell_type": "code",
   "execution_count": null,
   "id": "a5c601de",
   "metadata": {},
   "outputs": [],
   "source": []
  },
  {
   "cell_type": "markdown",
   "id": "ed04c5a3",
   "metadata": {
    "id": "W0jhnjey3AAW"
   },
   "source": [
    "## 사전 학습된 Detectron2 모델을 사용한 객체 감지\n",
    "\n",
    "\n"
   ]
  },
  {
   "cell_type": "markdown",
   "id": "b5230e63",
   "metadata": {
    "id": "PKnZ51MUCPBT"
   },
   "source": [
    "### Faster R-CNN\n",
    "- `faster_rcnn_R_101_FPN_3x`  사전학습 모델 사용\n",
    "```\n",
    "- R_101 : ResNet 101 Layer   \n",
    "- FPN :  Feature Pyramid Network - 객체 탐지에서 다양한 크기의 객체를 효과적으로 탐지하기 위해 사용되는 구조  \n",
    "- 3x: 기본 학습 스케줄의 3배(270,000 iteration, 약 36 epoch)\n",
    "```"
   ]
  },
  {
   "cell_type": "code",
   "execution_count": null,
   "id": "d18fd924",
   "metadata": {},
   "outputs": [],
   "source": [
    "# Detectron2에서 COCO 데이터셋 기반 사전 학습된 객체 탐지 모델 설정\n",
    "# 참조: https://github.com/facebookresearch/detectron2/tree/main/configs/COCO-Detection\n",
    "# Detectron2의 모델 설정 객체(cfg) 생성\n",
    "# 사전 학습된 Faster R-CNN 모델 구성 불러오기\n",
    "#  Faster R-CNN 모델의 사전 학습된 가중치 불러오기\n",
    "# 객체를 탐지할 최소 신뢰도(점수) 임계값을 0.5로 설정\n",
    "# predictor 생성"
   ]
  },
  {
   "cell_type": "code",
   "execution_count": null,
   "id": "4e0c718c",
   "metadata": {},
   "outputs": [],
   "source": [
    "# 사전 학습된 Faster R-CNN 모델(R_101_FPN_3x)을 사용하여 객체 탐지 수행"
   ]
  },
  {
   "cell_type": "markdown",
   "id": "4e1afd60",
   "metadata": {
    "id": "M6RXxkqqunZb"
   },
   "source": [
    "```\n",
    "{\n",
    "    '_image_size': (2592, 3888),  # 입력 이미지의 크기\n",
    "    '_fields': {\n",
    "        'pred_boxes': Boxes(tensor([...]))  # 예측된 바운딩 박스 좌표 (x1,y1,x2,y2)\n",
    "        'scores': tensor([...])  # 각 객체의 신뢰도 점수\n",
    "        'pred_classes': tensor([...])  # 각 객체의 클래스\n",
    "    }\n",
    "}\n",
    "\n",
    "```"
   ]
  },
  {
   "cell_type": "code",
   "execution_count": null,
   "id": "efdbe7a7",
   "metadata": {},
   "outputs": [],
   "source": [
    "# 출력 확인. 모델 출력 형식에 대한 자세한 내용은 [Detectron2 공식 문서](https://detectron2.readthedocs.io/tutorials/models.html#model-output-format) 참조"
   ]
  },
  {
   "cell_type": "code",
   "execution_count": null,
   "id": "1dce25e2",
   "metadata": {},
   "outputs": [],
   "source": [
    "# Detectron2의 Visualizer를 사용하여 이미지 시각화\n",
    "# 예측 결과(outputs[\"instances\"])를 CPU로 변환한 뒤, Visualizer를 사용해 바운딩 박스, 마스크 등을 시각화\n",
    "# Matplotlib을 사용해 결과를 화면에 출력"
   ]
  },
  {
   "cell_type": "code",
   "execution_count": null,
   "id": "d94a88c5",
   "metadata": {},
   "outputs": [],
   "source": [
    "# 예측된 클래스 레이블을 리스트로 변환\n",
    "# # 클래스 ID를 클래스 이름으로 변환\n",
    "# 예측된 클래스 이름을 출력합니다.\n",
    "# 예측된 바운딩 박스 좌표를 출력합니다."
   ]
  },
  {
   "cell_type": "code",
   "execution_count": null,
   "id": "c90f3ed5",
   "metadata": {},
   "outputs": [],
   "source": [
    "# COCO 데이터셋의 이미지 중 한개를 다운로드 (-q : 진행상황 표시 X, -O: 파일 이름 지정)\n",
    "# OpenCV를 사용하여 다운로드한 이미지를 읽어 NumPy 배열 형식으로 메모리에 로드"
   ]
  },
  {
   "cell_type": "code",
   "execution_count": null,
   "id": "5837c9a0",
   "metadata": {},
   "outputs": [],
   "source": [
    "# 사전 학습된 Faster R-CNN 모델(R_101_FPN_3x)을 사용하여 객체 탐지 수행\n",
    "# Detectron2의 Visualizer를 사용하여 이미지를 시각화"
   ]
  },
  {
   "cell_type": "markdown",
   "id": "b60b70d1",
   "metadata": {
    "id": "9mF8MwBvNTFw"
   },
   "source": [
    "### Mask R-CNN을 이용한 객체 분할\n",
    "\n",
    "- Mask R-CNN (mask_rcnn_R_50_FPN_3x)을 사용  \n",
    "- 물체 탐지(Object Detection) + 인스턴스 분할(Instance Segmentation)"
   ]
  },
  {
   "cell_type": "code",
   "execution_count": null,
   "id": "59ce446b",
   "metadata": {},
   "outputs": [],
   "source": [
    "# Detectron2의 설정 객체 생성\n",
    "# COCO 데이터셋에서 학습된 ResNet-50 백본 Mask R-CNN 모델 구성 파일 불러오기\n",
    "# 객체 검출 시 사용할 점수 임계값(Threshold) 설정\n",
    "# Detectron2 모델 저장소(Model Zoo)에서 사전 학습된 모델의 가중치 불러오기\n",
    "# DefaultPredictor 객체 생성"
   ]
  },
  {
   "cell_type": "code",
   "execution_count": null,
   "id": "2e99d5a4",
   "metadata": {},
   "outputs": [],
   "source": []
  },
  {
   "cell_type": "code",
   "execution_count": null,
   "id": "506f1a50",
   "metadata": {},
   "outputs": [],
   "source": [
    "# We can use `Visualizer` to draw the predictions on the image."
   ]
  },
  {
   "cell_type": "markdown",
   "id": "9e9bb526",
   "metadata": {
    "id": "y9u2Po20k5wj"
   },
   "source": [
    "## 사용자 정의 데이터셋(Balloon Dataset) 미세 조정(Fine-tuning)\n",
    "\n",
    "COCO dataset 에는 baloon category 가 없으므로 COCO dataset으로 사전 학습된 Mask R-CNN 모델은 baloon 을 detect 하지 못함"
   ]
  },
  {
   "cell_type": "code",
   "execution_count": null,
   "id": "9a24f14d",
   "metadata": {},
   "outputs": [],
   "source": [
    "# 예측"
   ]
  },
  {
   "cell_type": "code",
   "execution_count": null,
   "id": "c38ec6db",
   "metadata": {},
   "outputs": [],
   "source": [
    "# Detectron2의 Visualizer를 사용하여 이미지를 시각화\n",
    "# 예측 결과(outputs[\"instances\"])를 CPU로 변환한 뒤, Visualizer를 사용해 바운딩 박스, 마스크 등을 시각화\n",
    "# Matplotlib을 사용해 결과를 화면에 출력"
   ]
  },
  {
   "cell_type": "markdown",
   "id": "644be47f",
   "metadata": {
    "id": "zWh6G5WyoLc6"
   },
   "source": [
    "## 사용자 정의 데이터세트에서 학습 (Fine Tuning)\n",
    "새 형식의 사용자 정의 데이터세트에서 기존 detectron2 모델을 학습하는 방법.\n",
    "\n",
    "풍선이라는 클래스가 하나뿐인 baloon segmentation dataset을 사용합니다. detectron2의 model zoo에서 제공되는 COCO 데이터세트에서 사전 학습된 기존 모델에서 baloon segmentation 모델을 학습합니다.\n",
    "\n",
    "COCO 데이터세트에는 \"baloon\" category가 없습니다. 몇 분 안에 이 새로운 클래스를 인식할 수 있을 것입니다."
   ]
  },
  {
   "cell_type": "code",
   "execution_count": null,
   "id": "437a1c37",
   "metadata": {},
   "outputs": [],
   "source": [
    "# 데이터 다운로드/압축 해제"
   ]
  },
  {
   "cell_type": "code",
   "execution_count": null,
   "id": "7f2691e9",
   "metadata": {},
   "outputs": [],
   "source": [
    "# JSON 파일 읽기 및 파싱\n",
    "# JSON 데이터 출력\n",
    "    # 각 이미지의 주석(region) 정보 출력"
   ]
  },
  {
   "cell_type": "code",
   "execution_count": null,
   "id": "ae81f8a1",
   "metadata": {},
   "outputs": [],
   "source": [
    "# 데이터 세트가 COCO 형식인 경우 이 셀은 다음 세 줄로 대체될 수 있습니다.:\n",
    "# from detectron2.data.datasets import register_coco_instances\n",
    "# register_coco_instances(\"my_dataset_train\", {}, \"json_annotation_train.json\", \"path/to/image/dir\")\n",
    "# register_coco_instances(\"my_dataset_val\", {}, \"json_annotation_val.json\", \"path/to/image/dir\")\n",
    "# Detectron2의 BoxMode 모듈 가져오기 (바운딩 박스 모드 지정)\n",
    "# COCO 형식으로 데이터를 변환하여 Detectron2에서 사용할 수 있는 형식의 딕셔너리를 생성합니다.\n",
    "def get_balloon_dicts(img_dir):\n",
    "    # 이미지 디렉터리에서 JSON 파일 경로 지정\n",
    "        # 이미지 파일 경로와 크기 정보 저장\n",
    "        # 이미지 메타데이터 설정\n",
    "        # 이미지의 주석(객체 정보) 처리\n",
    "            # 객체 정보를 딕셔너리에 저장\n",
    "# 학습(train) 및 검증(val) 데이터셋 등록\n",
    "    # 데이터셋을 Detectron2에 등록\n",
    "    # 데이터셋의 메타데이터 설정\n",
    "# 학습 데이터셋의 메타데이터 가져오기"
   ]
  },
  {
   "cell_type": "markdown",
   "id": "a4fbf29b",
   "metadata": {
    "id": "3a_MIZo4oscw"
   },
   "source": [
    "데이터 세트가 올바른 형식인지 확인하기 위해 학습 세트에서 무작위로 선택한 샘플의 주석을 시각화해 보겠습니다."
   ]
  },
  {
   "cell_type": "code",
   "execution_count": null,
   "id": "618f30a7",
   "metadata": {},
   "outputs": [],
   "source": [
    "# 학습 데이터셋에서 3개의 샘플을 무작위로 선택하여 시각화\n",
    "# \"balloon/train\" 경로의 데이터셋을 Detectron2 형식으로 변환하여 가져오기\n",
    "# 데이터셋에서 무작위로 3개의 샘플을 선택\n",
    "    # 이미지 파일을 읽어오기 (cv2.imread는 이미지를 BGR 형식으로 읽음)\n",
    "    # Detectron2의 Visualizer를 사용하여 이미지 시각화\n",
    "    # 데이터셋 정보(d)를 사용해 바운딩 박스, 세그멘테이션 등을 이미지 위에 그리기\n",
    "    # 시각화 결과를 Colab 환경에서 표시 (cv2_imshow는 Colab에서 사용)"
   ]
  },
  {
   "cell_type": "markdown",
   "id": "ff7953cc",
   "metadata": {
    "id": "iQKjm6KOo2kw"
   },
   "source": [
    "## Train\n",
    "\n",
    "이제 COCO 사전 훈련된 R50-FPN 마스크 R-CNN 모델을 풍선 데이터 세트에서 미세 조정해 보겠습니다. P100 GPU에서 300회 반복을 훈련하는 데 약 2분이 걸립니다."
   ]
  },
  {
   "cell_type": "code",
   "execution_count": null,
   "id": "00dfdb35",
   "metadata": {},
   "outputs": [],
   "source": [
    "# Detectron2에서 데이터 로딩 속도 최적화"
   ]
  },
  {
   "cell_type": "code",
   "execution_count": null,
   "id": "edbafb3f",
   "metadata": {},
   "outputs": [],
   "source": [
    "# 실행 시작 시간 기록\n",
    "# Detectron2의 기본 학습 트레이너(DefaultTrainer)를 불러옵니다.\n",
    "# Detectron2의 설정 객체 생성\n",
    "# 사전 학습된 Mask R-CNN 모델 구성 파일 로드\n",
    "# 학습 데이터셋 설정 (\"balloon_train\"으로 등록된 데이터셋 사용)\n",
    "# DataLoader의 워커 수 설정 (데이터 로드 병렬 처리, 워커 수는 CPU 코어 수와 관련)\n",
    "# 사전 학습된 모델 가중치 설정 (Detectron2 Model Zoo에서 가져옴)\n",
    "# 배치 크기 설정 (1번 학습 단계에서 처리할 이미지 수)\n",
    "# 학습률(Learning Rate) 설정\n",
    "# 학습 반복(iteration) 수 설정\n",
    "# 학습률 감소 단계 설정\n",
    "# RoI(Region of Interest) Head의 배치 크기 설정\n",
    "# 모델의 클래스 수 설정\n",
    "# 출력 디렉터리 생성 (학습 결과 저장 디렉터리)\n",
    "# 기본 학습 트레이너(DefaultTrainer) 생성"
   ]
  },
  {
   "cell_type": "code",
   "execution_count": null,
   "id": "8321649a",
   "metadata": {},
   "outputs": [],
   "source": [
    "# 실행 종료 시간 기록\n",
    "# 실행 시간 출력"
   ]
  },
  {
   "cell_type": "markdown",
   "id": "aff55558",
   "metadata": {
    "id": "FaNLCf-1qSLm"
   },
   "source": [
    "## 훈련된 모델을 사용한 추론 및 평가\n",
    "이제 훈련된 모델로 baloon validation 데이터 세트에 대해  추론을 실행해 보겠습니다. 먼저 방금 훈련한 모델을 사용하여 predictor를 만들어 보겠습니다."
   ]
  },
  {
   "cell_type": "code",
   "execution_count": null,
   "id": "85efffef",
   "metadata": {},
   "outputs": [],
   "source": [
    "# cfg 객체는 학습 시 사용했던 설정을 그대로 포함하고 있으며, 추론에 필요한 몇 가지 설정을 추가로 변경합니다.\n",
    "# 방금 학습한 모델의 최종 가중치 경로 설정\n",
    "# 추론 시 신뢰도 임계값 설정 (0.7 이상인 경우에만 예측 결과를 출력)\n",
    "# DefaultPredictor 생성"
   ]
  },
  {
   "cell_type": "markdown",
   "id": "8d9910d6",
   "metadata": {
    "id": "xEjxUCrRqXTr"
   },
   "source": [
    "여러 샘플을 무작위로 선택하여 예측 결과를 시각화 합니다."
   ]
  },
  {
   "cell_type": "code",
   "execution_count": null,
   "id": "8c60e213",
   "metadata": {},
   "outputs": [],
   "source": [
    "# 검증 데이터셋(\"balloon/val\")을 Detectron2 형식으로 가져옴\n",
    "# 검증 데이터셋에서 무작위로 3개의 샘플을 선택\n",
    "    # 이미지 파일 읽기 (OpenCV는 기본적으로 BGR 형식으로 이미지를 읽음)\n",
    "    # 학습된 모델을 사용하여 이미지에서 객체 추론\n",
    "    # Visualizer를 사용하여 추론 결과를 시각화\n",
    "    # 모델 추론 결과(outputs[\"instances\"])를 시각화\n",
    "    # Colab 환경에서 이미지를 표시 (cv2_imshow는 이미지를 BGR 형식으로 표시)"
   ]
  },
  {
   "cell_type": "code",
   "execution_count": null,
   "id": "10168e31",
   "metadata": {},
   "outputs": [],
   "source": [
    "# 학습된 모델을 사용하여 이미지에서 객체 추론\n",
    "# 예측"
   ]
  },
  {
   "cell_type": "code",
   "execution_count": null,
   "id": "57670db4",
   "metadata": {},
   "outputs": [],
   "source": [
    "# 학습된 모델을 사용하여 이미지에서 객체 추론\n",
    "# Visualizer를 사용하여 추론 결과를 시각화\n",
    "# 모델 추론 결과(outputs[\"instances\"])를 시각화\n",
    "# Colab 환경에서 이미지를 표시 (cv2_imshow는 이미지를 BGR 형식으로 표시)"
   ]
  },
  {
   "cell_type": "code",
   "execution_count": null,
   "id": "2279e17a",
   "metadata": {},
   "outputs": [],
   "source": []
  }
 ],
 "metadata": {
  "accelerator": "GPU",
  "colab": {
   "gpuType": "T4",
   "provenance": []
  },
  "kernelspec": {
   "display_name": "Python 3 (ipykernel)",
   "language": "python",
   "name": "python3"
  },
  "language_info": {
   "codemirror_mode": {
    "name": "ipython",
    "version": 3
   },
   "file_extension": ".py",
   "mimetype": "text/x-python",
   "name": "python",
   "nbconvert_exporter": "python",
   "pygments_lexer": "ipython3",
   "version": "3.9.16"
  }
 },
 "nbformat": 4,
 "nbformat_minor": 5
}
